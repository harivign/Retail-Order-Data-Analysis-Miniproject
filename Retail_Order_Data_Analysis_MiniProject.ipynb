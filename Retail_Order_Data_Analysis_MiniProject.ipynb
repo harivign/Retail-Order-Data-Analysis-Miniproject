{
  "nbformat": 4,
  "nbformat_minor": 0,
  "metadata": {
    "colab": {
      "provenance": [],
      "authorship_tag": "ABX9TyNbo+n3oyde1ts08pEke3R5",
      "include_colab_link": true
    },
    "kernelspec": {
      "name": "python3",
      "display_name": "Python 3"
    },
    "language_info": {
      "name": "python"
    }
  },
  "cells": [
    {
      "cell_type": "markdown",
      "metadata": {
        "id": "view-in-github",
        "colab_type": "text"
      },
      "source": [
        "<a href=\"https://colab.research.google.com/github/harivign/Retail-Order-Data-Analysis-Miniproject/blob/main/Retail_Order_Data_Analysis_MiniProject.ipynb\" target=\"_parent\"><img src=\"https://colab.research.google.com/assets/colab-badge.svg\" alt=\"Open In Colab\"/></a>"
      ]
    },
    {
      "cell_type": "code",
      "execution_count": null,
      "metadata": {
        "id": "wk6XnS31cByD"
      },
      "outputs": [],
      "source": [
        "# Retail Order Data Analysis"
      ]
    },
    {
      "cell_type": "code",
      "source": [
        "import os\n",
        "os.environ[\"KAGGLE_USERNAME\"]=\"harivigneshk\"\n",
        "os.environ[\"KAGGELE_KEY\"]=\"035c1ab065b9d4f00dcfd604c0adcfc4\"\n"
      ],
      "metadata": {
        "id": "CXZ7W1H8cOfa"
      },
      "execution_count": 1,
      "outputs": []
    },
    {
      "cell_type": "code",
      "source": [],
      "metadata": {
        "id": "z2P7CEw7c7-8"
      },
      "execution_count": null,
      "outputs": []
    }
  ]
}